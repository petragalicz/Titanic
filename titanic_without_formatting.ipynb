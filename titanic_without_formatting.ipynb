{
 "metadata": {
  "language_info": {
   "codemirror_mode": {
    "name": "ipython",
    "version": 3
   },
   "file_extension": ".py",
   "mimetype": "text/x-python",
   "name": "python",
   "nbconvert_exporter": "python",
   "pygments_lexer": "ipython3",
   "version": "3.9.4"
  },
  "orig_nbformat": 4,
  "kernelspec": {
   "name": "python3",
   "display_name": "Python 3.9.4 64-bit"
  },
  "interpreter": {
   "hash": "0510395f8c242262531cd297c466f551bd20cf0da068266cd9dac29b4f0e6943"
  }
 },
 "nbformat": 4,
 "nbformat_minor": 2,
 "cells": [
  {
   "source": [
    "\n",
    "The Challenge \n",
    "\n",
    "On April 15, 1912, during her maiden voyage, the widely considered “unsinkable” RMS Titanic sank after colliding with an iceberg. Unfortunately, there weren’t enough lifeboats for everyone onboard, resulting in the death of 1502 out of 2224 passengers and crew.\n",
    "\n",
    "While there was some element of luck involved in surviving, it seems some groups of people were more likely to survive than others.\n",
    "\n",
    "The challenge is to build a predictive model that answers the question: “what sorts of people were more likely to survive?” using passenger data (ie name, age, gender, socio-economic class, etc). \n",
    "[From the Kaggle wepsite](https://www.kaggle.com/c/titanic)\n",
    "\n",
    "Kaggle has provided two datasets, 'train.csv' and 'test.csv'. Train.csv contains information of a subset of the passengers on board and the fact that whether they survived or not. The challenge is to predict whether the passengers in the 'test.csv' dataset survived or died.\n",
    "\n"
   ],
   "cell_type": "markdown",
   "metadata": {}
  },
  {
   "source": [
    "\n",
    "Goal \n",
    "\n",
    "My goal is to do an analysis of the Titanic shipwreck and build a simple machine learning model to predict the survival of passengers. In order to achieve this, I'm following the below steps:\n",
    "\n",
    "- Exploring the data\n",
    "- Cleansing the data\n",
    "- Analyzing the data by descriptive analysis and by visualisation (with Tableau)\n",
    "- Wrangling, preparing the data for the machine learning models\n",
    "- Predicting the outcome\n"
   ],
   "cell_type": "markdown",
   "metadata": {}
  },
  {
   "cell_type": "code",
   "execution_count": 1,
   "metadata": {},
   "outputs": [],
   "source": [
    "# importing the necessary libraries\n",
    "import numpy as np\n",
    "import pandas as pd"
   ]
  },
  {
   "cell_type": "code",
   "execution_count": 2,
   "metadata": {},
   "outputs": [],
   "source": [
    "# Reading the train.csv file into a pandas DataFrame:\n",
    "train_table = pd.read_csv('train.csv')"
   ]
  },
  {
   "source": [
    "\n",
    "   Exploring the data we have\n"
   ],
   "cell_type": "markdown",
   "metadata": {}
  },
  {
   "cell_type": "code",
   "execution_count": 3,
   "metadata": {},
   "outputs": [
    {
     "output_type": "execute_result",
     "data": {
      "text/plain": [
       "   PassengerId  Survived  Pclass  \\\n",
       "0            1         0       3   \n",
       "1            2         1       1   \n",
       "2            3         1       3   \n",
       "3            4         1       1   \n",
       "4            5         0       3   \n",
       "\n",
       "                                                Name     Sex   Age  SibSp  \\\n",
       "0                            Braund, Mr. Owen Harris    male  22.0      1   \n",
       "1  Cumings, Mrs. John Bradley (Florence Briggs Th...  female  38.0      1   \n",
       "2                             Heikkinen, Miss. Laina  female  26.0      0   \n",
       "3       Futrelle, Mrs. Jacques Heath (Lily May Peel)  female  35.0      1   \n",
       "4                           Allen, Mr. William Henry    male  35.0      0   \n",
       "\n",
       "   Parch            Ticket     Fare Cabin Embarked  \n",
       "0      0         A/5 21171   7.2500   NaN        S  \n",
       "1      0          PC 17599  71.2833   C85        C  \n",
       "2      0  STON/O2. 3101282   7.9250   NaN        S  \n",
       "3      0            113803  53.1000  C123        S  \n",
       "4      0            373450   8.0500   NaN        S  "
      ],
      "text/html": "<div>\n<style scoped>\n    .dataframe tbody tr th:only-of-type {\n        vertical-align: middle;\n    }\n\n    .dataframe tbody tr th {\n        vertical-align: top;\n    }\n\n    .dataframe thead th {\n        text-align: right;\n    }\n</style>\n<table border=\"1\" class=\"dataframe\">\n  <thead>\n    <tr style=\"text-align: right;\">\n      <th></th>\n      <th>PassengerId</th>\n      <th>Survived</th>\n      <th>Pclass</th>\n      <th>Name</th>\n      <th>Sex</th>\n      <th>Age</th>\n      <th>SibSp</th>\n      <th>Parch</th>\n      <th>Ticket</th>\n      <th>Fare</th>\n      <th>Cabin</th>\n      <th>Embarked</th>\n    </tr>\n  </thead>\n  <tbody>\n    <tr>\n      <th>0</th>\n      <td>1</td>\n      <td>0</td>\n      <td>3</td>\n      <td>Braund, Mr. Owen Harris</td>\n      <td>male</td>\n      <td>22.0</td>\n      <td>1</td>\n      <td>0</td>\n      <td>A/5 21171</td>\n      <td>7.2500</td>\n      <td>NaN</td>\n      <td>S</td>\n    </tr>\n    <tr>\n      <th>1</th>\n      <td>2</td>\n      <td>1</td>\n      <td>1</td>\n      <td>Cumings, Mrs. John Bradley (Florence Briggs Th...</td>\n      <td>female</td>\n      <td>38.0</td>\n      <td>1</td>\n      <td>0</td>\n      <td>PC 17599</td>\n      <td>71.2833</td>\n      <td>C85</td>\n      <td>C</td>\n    </tr>\n    <tr>\n      <th>2</th>\n      <td>3</td>\n      <td>1</td>\n      <td>3</td>\n      <td>Heikkinen, Miss. Laina</td>\n      <td>female</td>\n      <td>26.0</td>\n      <td>0</td>\n      <td>0</td>\n      <td>STON/O2. 3101282</td>\n      <td>7.9250</td>\n      <td>NaN</td>\n      <td>S</td>\n    </tr>\n    <tr>\n      <th>3</th>\n      <td>4</td>\n      <td>1</td>\n      <td>1</td>\n      <td>Futrelle, Mrs. Jacques Heath (Lily May Peel)</td>\n      <td>female</td>\n      <td>35.0</td>\n      <td>1</td>\n      <td>0</td>\n      <td>113803</td>\n      <td>53.1000</td>\n      <td>C123</td>\n      <td>S</td>\n    </tr>\n    <tr>\n      <th>4</th>\n      <td>5</td>\n      <td>0</td>\n      <td>3</td>\n      <td>Allen, Mr. William Henry</td>\n      <td>male</td>\n      <td>35.0</td>\n      <td>0</td>\n      <td>0</td>\n      <td>373450</td>\n      <td>8.0500</td>\n      <td>NaN</td>\n      <td>S</td>\n    </tr>\n  </tbody>\n</table>\n</div>"
     },
     "metadata": {},
     "execution_count": 3
    }
   ],
   "source": [
    "train_table.head()"
   ]
  },
  {
   "cell_type": "code",
   "execution_count": 4,
   "metadata": {},
   "outputs": [
    {
     "output_type": "stream",
     "name": "stdout",
     "text": [
      "<class 'pandas.core.frame.DataFrame'>\nRangeIndex: 891 entries, 0 to 890\nData columns (total 12 columns):\n #   Column       Non-Null Count  Dtype  \n---  ------       --------------  -----  \n 0   PassengerId  891 non-null    int64  \n 1   Survived     891 non-null    int64  \n 2   Pclass       891 non-null    int64  \n 3   Name         891 non-null    object \n 4   Sex          891 non-null    object \n 5   Age          714 non-null    float64\n 6   SibSp        891 non-null    int64  \n 7   Parch        891 non-null    int64  \n 8   Ticket       891 non-null    object \n 9   Fare         891 non-null    float64\n 10  Cabin        204 non-null    object \n 11  Embarked     889 non-null    object \ndtypes: float64(2), int64(5), object(5)\nmemory usage: 83.7+ KB\n"
     ]
    }
   ],
   "source": [
    "# glancing at the datatypes of each feature and the missing values\n",
    "train_table.info()"
   ]
  },
  {
   "source": [
    "\n",
    "Cleaning the data as preparation for the analysis"
   ],
   "cell_type": "markdown",
   "metadata": {}
  },
  {
   "cell_type": "code",
   "execution_count": 5,
   "metadata": {},
   "outputs": [],
   "source": [
    "# Deleting Cabin as it has over 600 missing values and also deleting Ticket as it probably does not have any correlation with survival\n",
    "train_table = train_table.drop(columns=['Cabin', 'Ticket'])\n",
    "\n",
    "# now we can drop all the rows which contain missing values (only two columns, Age and Embarked has missing values)\n",
    "train_table = train_table.dropna()"
   ]
  },
  {
   "source": [
    "\n",
    "Analyze by describing the data"
   ],
   "cell_type": "markdown",
   "metadata": {}
  },
  {
   "cell_type": "code",
   "execution_count": 6,
   "metadata": {},
   "outputs": [
    {
     "output_type": "execute_result",
     "data": {
      "text/plain": [
       "                         Name   Sex Embarked\n",
       "count                     712   712      712\n",
       "unique                    712     2        3\n",
       "top     Wheadon, Mr. Edward H  male        S\n",
       "freq                        1   453      554"
      ],
      "text/html": "<div>\n<style scoped>\n    .dataframe tbody tr th:only-of-type {\n        vertical-align: middle;\n    }\n\n    .dataframe tbody tr th {\n        vertical-align: top;\n    }\n\n    .dataframe thead th {\n        text-align: right;\n    }\n</style>\n<table border=\"1\" class=\"dataframe\">\n  <thead>\n    <tr style=\"text-align: right;\">\n      <th></th>\n      <th>Name</th>\n      <th>Sex</th>\n      <th>Embarked</th>\n    </tr>\n  </thead>\n  <tbody>\n    <tr>\n      <th>count</th>\n      <td>712</td>\n      <td>712</td>\n      <td>712</td>\n    </tr>\n    <tr>\n      <th>unique</th>\n      <td>712</td>\n      <td>2</td>\n      <td>3</td>\n    </tr>\n    <tr>\n      <th>top</th>\n      <td>Wheadon, Mr. Edward H</td>\n      <td>male</td>\n      <td>S</td>\n    </tr>\n    <tr>\n      <th>freq</th>\n      <td>1</td>\n      <td>453</td>\n      <td>554</td>\n    </tr>\n  </tbody>\n</table>\n</div>"
     },
     "metadata": {},
     "execution_count": 6
    }
   ],
   "source": [
    "# Review the distribution of the features, first the categorical features:\n",
    "train_table.describe(include=[object])"
   ]
  },
  {
   "source": [
    "The Name column have unique values in the dataset (total passangers are 712 after cleaning the dataset)\n",
    "\n",
    "Sex has two unique values (male, female), more male (top = male) as 63.6% (freq = 453 / count = 712) of the passangers being male\n",
    "\n",
    "Embarked takes on 3 values (C = Cherbourg, Q = Queenstown, S = Southampton), with Southampton being the port used by 77.8% passangers (freq = 554)\n"
   ],
   "cell_type": "markdown",
   "metadata": {}
  },
  {
   "cell_type": "code",
   "execution_count": 7,
   "metadata": {},
   "outputs": [
    {
     "output_type": "execute_result",
     "data": {
      "text/plain": [
       "       PassengerId    Survived      Pclass         Age       SibSp  \\\n",
       "count   712.000000  712.000000  712.000000  712.000000  712.000000   \n",
       "mean    448.589888    0.404494    2.240169   29.642093    0.514045   \n",
       "std     258.683191    0.491139    0.836854   14.492933    0.930692   \n",
       "min       1.000000    0.000000    1.000000    0.420000    0.000000   \n",
       "25%     222.750000    0.000000    1.000000   20.000000    0.000000   \n",
       "50%     445.000000    0.000000    2.000000   28.000000    0.000000   \n",
       "75%     677.250000    1.000000    3.000000   38.000000    1.000000   \n",
       "max     891.000000    1.000000    3.000000   80.000000    5.000000   \n",
       "\n",
       "            Parch        Fare  \n",
       "count  712.000000  712.000000  \n",
       "mean     0.432584   34.567251  \n",
       "std      0.854181   52.938648  \n",
       "min      0.000000    0.000000  \n",
       "25%      0.000000    8.050000  \n",
       "50%      0.000000   15.645850  \n",
       "75%      1.000000   33.000000  \n",
       "max      6.000000  512.329200  "
      ],
      "text/html": "<div>\n<style scoped>\n    .dataframe tbody tr th:only-of-type {\n        vertical-align: middle;\n    }\n\n    .dataframe tbody tr th {\n        vertical-align: top;\n    }\n\n    .dataframe thead th {\n        text-align: right;\n    }\n</style>\n<table border=\"1\" class=\"dataframe\">\n  <thead>\n    <tr style=\"text-align: right;\">\n      <th></th>\n      <th>PassengerId</th>\n      <th>Survived</th>\n      <th>Pclass</th>\n      <th>Age</th>\n      <th>SibSp</th>\n      <th>Parch</th>\n      <th>Fare</th>\n    </tr>\n  </thead>\n  <tbody>\n    <tr>\n      <th>count</th>\n      <td>712.000000</td>\n      <td>712.000000</td>\n      <td>712.000000</td>\n      <td>712.000000</td>\n      <td>712.000000</td>\n      <td>712.000000</td>\n      <td>712.000000</td>\n    </tr>\n    <tr>\n      <th>mean</th>\n      <td>448.589888</td>\n      <td>0.404494</td>\n      <td>2.240169</td>\n      <td>29.642093</td>\n      <td>0.514045</td>\n      <td>0.432584</td>\n      <td>34.567251</td>\n    </tr>\n    <tr>\n      <th>std</th>\n      <td>258.683191</td>\n      <td>0.491139</td>\n      <td>0.836854</td>\n      <td>14.492933</td>\n      <td>0.930692</td>\n      <td>0.854181</td>\n      <td>52.938648</td>\n    </tr>\n    <tr>\n      <th>min</th>\n      <td>1.000000</td>\n      <td>0.000000</td>\n      <td>1.000000</td>\n      <td>0.420000</td>\n      <td>0.000000</td>\n      <td>0.000000</td>\n      <td>0.000000</td>\n    </tr>\n    <tr>\n      <th>25%</th>\n      <td>222.750000</td>\n      <td>0.000000</td>\n      <td>1.000000</td>\n      <td>20.000000</td>\n      <td>0.000000</td>\n      <td>0.000000</td>\n      <td>8.050000</td>\n    </tr>\n    <tr>\n      <th>50%</th>\n      <td>445.000000</td>\n      <td>0.000000</td>\n      <td>2.000000</td>\n      <td>28.000000</td>\n      <td>0.000000</td>\n      <td>0.000000</td>\n      <td>15.645850</td>\n    </tr>\n    <tr>\n      <th>75%</th>\n      <td>677.250000</td>\n      <td>1.000000</td>\n      <td>3.000000</td>\n      <td>38.000000</td>\n      <td>1.000000</td>\n      <td>1.000000</td>\n      <td>33.000000</td>\n    </tr>\n    <tr>\n      <th>max</th>\n      <td>891.000000</td>\n      <td>1.000000</td>\n      <td>3.000000</td>\n      <td>80.000000</td>\n      <td>5.000000</td>\n      <td>6.000000</td>\n      <td>512.329200</td>\n    </tr>\n  </tbody>\n</table>\n</div>"
     },
     "metadata": {},
     "execution_count": 7
    }
   ],
   "source": [
    "# Then the numerical features\n",
    "train_table.describe(include=[np.number])"
   ]
  },
  {
   "source": [
    "40.4% of the passengers survived (mean = 0.404494)\n",
    "\n",
    "About 25%-25% of the passangers had 1st and 2nd class tickets and around 50% was travelling with 3rd class tickets (25th, 50th, and 75th percentiles)\n",
    "\n",
    "The passengers' age varied greatly between under 1 to 80, but half of the passenger were 28 or under\n",
    "\n",
    "The SibSp column contains the number of siblings/spouses, \n",
    "and the Parch column the number of parents/children the passanger had aboard the Titanic\n",
    "\n",
    "The majority (around 75%) of passangers travelled with 1 or no relative\n",
    "\n",
    "The ticket price went up to 512 USD, but 75% of the passangers paid less than 34 USD for their ticket"
   ],
   "cell_type": "markdown",
   "metadata": {}
  },
  {
   "cell_type": "code",
   "execution_count": 8,
   "metadata": {},
   "outputs": [
    {
     "output_type": "execute_result",
     "data": {
      "text/plain": [
       "      Sex  Survived\n",
       "0  female  0.752896\n",
       "1    male  0.205298"
      ],
      "text/html": "<div>\n<style scoped>\n    .dataframe tbody tr th:only-of-type {\n        vertical-align: middle;\n    }\n\n    .dataframe tbody tr th {\n        vertical-align: top;\n    }\n\n    .dataframe thead th {\n        text-align: right;\n    }\n</style>\n<table border=\"1\" class=\"dataframe\">\n  <thead>\n    <tr style=\"text-align: right;\">\n      <th></th>\n      <th>Sex</th>\n      <th>Survived</th>\n    </tr>\n  </thead>\n  <tbody>\n    <tr>\n      <th>0</th>\n      <td>female</td>\n      <td>0.752896</td>\n    </tr>\n    <tr>\n      <th>1</th>\n      <td>male</td>\n      <td>0.205298</td>\n    </tr>\n  </tbody>\n</table>\n</div>"
     },
     "metadata": {},
     "execution_count": 8
    }
   ],
   "source": [
    "# Overviewing the survival rate by each feature\n",
    "# Survived by sex in %\n",
    "train_table[['Sex', 'Survived']].groupby(\n",
    "    ['Sex'], as_index=False).mean().sort_values(by='Survived', ascending=False)"
   ]
  },
  {
   "cell_type": "code",
   "execution_count": 9,
   "metadata": {},
   "outputs": [
    {
     "output_type": "execute_result",
     "data": {
      "text/plain": [
       "  Embarked  Survived\n",
       "0        C  0.607692\n",
       "2        S  0.362816\n",
       "1        Q  0.285714"
      ],
      "text/html": "<div>\n<style scoped>\n    .dataframe tbody tr th:only-of-type {\n        vertical-align: middle;\n    }\n\n    .dataframe tbody tr th {\n        vertical-align: top;\n    }\n\n    .dataframe thead th {\n        text-align: right;\n    }\n</style>\n<table border=\"1\" class=\"dataframe\">\n  <thead>\n    <tr style=\"text-align: right;\">\n      <th></th>\n      <th>Embarked</th>\n      <th>Survived</th>\n    </tr>\n  </thead>\n  <tbody>\n    <tr>\n      <th>0</th>\n      <td>C</td>\n      <td>0.607692</td>\n    </tr>\n    <tr>\n      <th>2</th>\n      <td>S</td>\n      <td>0.362816</td>\n    </tr>\n    <tr>\n      <th>1</th>\n      <td>Q</td>\n      <td>0.285714</td>\n    </tr>\n  </tbody>\n</table>\n</div>"
     },
     "metadata": {},
     "execution_count": 9
    }
   ],
   "source": [
    "# Survived by the location of embarkment in %\n",
    "train_table[['Embarked', 'Survived']].groupby(\n",
    "    ['Embarked'], as_index=False).mean().sort_values(by='Survived', ascending=False)"
   ]
  },
  {
   "cell_type": "code",
   "execution_count": 10,
   "metadata": {},
   "outputs": [
    {
     "output_type": "execute_result",
     "data": {
      "text/plain": [
       "   Pclass  Survived\n",
       "0       1  0.652174\n",
       "1       2  0.479769\n",
       "2       3  0.239437"
      ],
      "text/html": "<div>\n<style scoped>\n    .dataframe tbody tr th:only-of-type {\n        vertical-align: middle;\n    }\n\n    .dataframe tbody tr th {\n        vertical-align: top;\n    }\n\n    .dataframe thead th {\n        text-align: right;\n    }\n</style>\n<table border=\"1\" class=\"dataframe\">\n  <thead>\n    <tr style=\"text-align: right;\">\n      <th></th>\n      <th>Pclass</th>\n      <th>Survived</th>\n    </tr>\n  </thead>\n  <tbody>\n    <tr>\n      <th>0</th>\n      <td>1</td>\n      <td>0.652174</td>\n    </tr>\n    <tr>\n      <th>1</th>\n      <td>2</td>\n      <td>0.479769</td>\n    </tr>\n    <tr>\n      <th>2</th>\n      <td>3</td>\n      <td>0.239437</td>\n    </tr>\n  </tbody>\n</table>\n</div>"
     },
     "metadata": {},
     "execution_count": 10
    }
   ],
   "source": [
    "# Survived by class in %\n",
    "train_table[['Pclass', 'Survived']].groupby(\n",
    "    ['Pclass'], as_index=False).mean().sort_values(by='Survived', ascending=False)"
   ]
  },
  {
   "cell_type": "code",
   "execution_count": 11,
   "metadata": {},
   "outputs": [
    {
     "output_type": "execute_result",
     "data": {
      "text/plain": [
       "   SibSp  Survived\n",
       "1      1  0.530055\n",
       "2      2  0.440000\n",
       "0      0  0.368870\n",
       "3      3  0.333333\n",
       "4      4  0.166667\n",
       "5      5  0.000000"
      ],
      "text/html": "<div>\n<style scoped>\n    .dataframe tbody tr th:only-of-type {\n        vertical-align: middle;\n    }\n\n    .dataframe tbody tr th {\n        vertical-align: top;\n    }\n\n    .dataframe thead th {\n        text-align: right;\n    }\n</style>\n<table border=\"1\" class=\"dataframe\">\n  <thead>\n    <tr style=\"text-align: right;\">\n      <th></th>\n      <th>SibSp</th>\n      <th>Survived</th>\n    </tr>\n  </thead>\n  <tbody>\n    <tr>\n      <th>1</th>\n      <td>1</td>\n      <td>0.530055</td>\n    </tr>\n    <tr>\n      <th>2</th>\n      <td>2</td>\n      <td>0.440000</td>\n    </tr>\n    <tr>\n      <th>0</th>\n      <td>0</td>\n      <td>0.368870</td>\n    </tr>\n    <tr>\n      <th>3</th>\n      <td>3</td>\n      <td>0.333333</td>\n    </tr>\n    <tr>\n      <th>4</th>\n      <td>4</td>\n      <td>0.166667</td>\n    </tr>\n    <tr>\n      <th>5</th>\n      <td>5</td>\n      <td>0.000000</td>\n    </tr>\n  </tbody>\n</table>\n</div>"
     },
     "metadata": {},
     "execution_count": 11
    }
   ],
   "source": [
    "# Survived by number of siblings/spouses in %\n",
    "train_table[['SibSp', 'Survived']].groupby(\n",
    "    ['SibSp'], as_index=False).mean().sort_values(by='Survived', ascending=False)"
   ]
  },
  {
   "cell_type": "code",
   "execution_count": 12,
   "metadata": {},
   "outputs": [
    {
     "output_type": "execute_result",
     "data": {
      "text/plain": [
       "   Parch  Survived\n",
       "3      3  0.600000\n",
       "2      2  0.573529\n",
       "1      1  0.554545\n",
       "0      0  0.354528\n",
       "5      5  0.200000\n",
       "4      4  0.000000\n",
       "6      6  0.000000"
      ],
      "text/html": "<div>\n<style scoped>\n    .dataframe tbody tr th:only-of-type {\n        vertical-align: middle;\n    }\n\n    .dataframe tbody tr th {\n        vertical-align: top;\n    }\n\n    .dataframe thead th {\n        text-align: right;\n    }\n</style>\n<table border=\"1\" class=\"dataframe\">\n  <thead>\n    <tr style=\"text-align: right;\">\n      <th></th>\n      <th>Parch</th>\n      <th>Survived</th>\n    </tr>\n  </thead>\n  <tbody>\n    <tr>\n      <th>3</th>\n      <td>3</td>\n      <td>0.600000</td>\n    </tr>\n    <tr>\n      <th>2</th>\n      <td>2</td>\n      <td>0.573529</td>\n    </tr>\n    <tr>\n      <th>1</th>\n      <td>1</td>\n      <td>0.554545</td>\n    </tr>\n    <tr>\n      <th>0</th>\n      <td>0</td>\n      <td>0.354528</td>\n    </tr>\n    <tr>\n      <th>5</th>\n      <td>5</td>\n      <td>0.200000</td>\n    </tr>\n    <tr>\n      <th>4</th>\n      <td>4</td>\n      <td>0.000000</td>\n    </tr>\n    <tr>\n      <th>6</th>\n      <td>6</td>\n      <td>0.000000</td>\n    </tr>\n  </tbody>\n</table>\n</div>"
     },
     "metadata": {},
     "execution_count": 12
    }
   ],
   "source": [
    "# Survived by number of parents/childrens in %\n",
    "train_table[['Parch', 'Survived']].groupby(\n",
    "    ['Parch'], as_index=False).mean().sort_values(by='Survived', ascending=False)"
   ]
  },
  {
   "cell_type": "code",
   "execution_count": 13,
   "metadata": {},
   "outputs": [],
   "source": [
    "# Fare and Age takes on too many values to have a good overview, so I will first group the values into bins, and also will use the new groups for the model later on "
   ]
  },
  {
   "source": [
    "\n",
    "Analyze by visualizing data"
   ],
   "cell_type": "markdown",
   "metadata": {}
  },
  {
   "cell_type": "code",
   "execution_count": 14,
   "metadata": {},
   "outputs": [],
   "source": [
    "# writing cleaned train table into a csv file for Tableau visualisation\n",
    "train_table.to_csv('train_cleaned.csv', index=False)"
   ]
  },
  {
   "source": [
    "To better understand the data and the correlation between survival and the different features, let's visualise it. \n",
    "\n",
    "For the visualisation I imported the cleaned .csv file to Tableau. I will link to the interactive dashboards on Tableau Public, as Github has a rendering issue and won't display jupyter notebook with images correctly."
   ],
   "cell_type": "markdown",
   "metadata": {}
  },
  {
   "source": [
    "Survival by age, ticket class, gender, port of embarkment and ticket price\n",
    "\n",
    "[Click here to view the graphs interactively](https://public.tableau.com/app/profile/petra.galicz/viz/survivalratebyfeatures/Dashboard1)"
   ],
   "cell_type": "markdown",
   "metadata": {}
  },
  {
   "source": [
    "Breaking down further\n",
    "\n",
    "Survival by gender and class, age and class, gender and embarkment, class and embarkment \n",
    "\n",
    "[Click here to view the graphs interactively](https://public.tableau.com/app/profile/petra.galicz/viz/survivalratebyfeatures-breakdown/Dashboard2)"
   ],
   "cell_type": "markdown",
   "metadata": {}
  },
  {
   "source": [
    "Survival by number of siblings/spouses and number of parents/children\n",
    "\n",
    "[Click here to view the graphs interactively](https://public.tableau.com/app/profile/petra.galicz/viz/Survivalbynumberofsiblingsspousesandparentschildren/Dashboard3)"
   ],
   "cell_type": "markdown",
   "metadata": {}
  },
  {
   "source": [
    "Now that we have a lot better understanding of who survived and died in the tragedy, let's prepare our data for the predicition models "
   ],
   "cell_type": "markdown",
   "metadata": {}
  },
  {
   "source": [
    "\n",
    "Data wrangling"
   ],
   "cell_type": "markdown",
   "metadata": {}
  },
  {
   "cell_type": "code",
   "execution_count": 18,
   "metadata": {},
   "outputs": [
    {
     "output_type": "execute_result",
     "data": {
      "text/plain": [
       "   Fare  Survived\n",
       "0     0  0.204188\n",
       "1     1  0.321212\n",
       "2     2  0.486034\n",
       "3     3  0.615819"
      ],
      "text/html": "<div>\n<style scoped>\n    .dataframe tbody tr th:only-of-type {\n        vertical-align: middle;\n    }\n\n    .dataframe tbody tr th {\n        vertical-align: top;\n    }\n\n    .dataframe thead th {\n        text-align: right;\n    }\n</style>\n<table border=\"1\" class=\"dataframe\">\n  <thead>\n    <tr style=\"text-align: right;\">\n      <th></th>\n      <th>Fare</th>\n      <th>Survived</th>\n    </tr>\n  </thead>\n  <tbody>\n    <tr>\n      <th>0</th>\n      <td>0</td>\n      <td>0.204188</td>\n    </tr>\n    <tr>\n      <th>1</th>\n      <td>1</td>\n      <td>0.321212</td>\n    </tr>\n    <tr>\n      <th>2</th>\n      <td>2</td>\n      <td>0.486034</td>\n    </tr>\n    <tr>\n      <th>3</th>\n      <td>3</td>\n      <td>0.615819</td>\n    </tr>\n  </tbody>\n</table>\n</div>"
     },
     "metadata": {},
     "execution_count": 18
    }
   ],
   "source": [
    "# rounding the floating point values\n",
    "train_table = train_table.round({'Fare': 1, 'Age': 1})\n",
    "\n",
    "# creating bins for continuous values based on the precentiles\n",
    "train_table[['Fare']].describe(include=[np.number])\n",
    "\n",
    "# Fare\n",
    "train_table.loc[train_table['Fare'] <= 8, 'Fare'] = 0\n",
    "train_table.loc[(train_table['Fare'] > 8) & (\n",
    "    train_table['Fare'] <= 15.65), 'Fare'] = 1\n",
    "train_table.loc[(train_table['Fare'] > 15.65) & (\n",
    "    train_table['Fare'] <= 33), 'Fare'] = 2\n",
    "train_table.loc[train_table['Fare'] > 33, 'Fare'] = 3\n",
    "\n",
    "# casting Fare values as int for the model:\n",
    "train_table['Fare'] = train_table['Fare'].astype(int)\n",
    "\n",
    "# checking the survival rate by the new Fare categories\n",
    "train_table[['Fare', 'Survived']].groupby(\n",
    "    ['Fare'], as_index=False).mean()"
   ]
  },
  {
   "cell_type": "code",
   "execution_count": 19,
   "metadata": {},
   "outputs": [
    {
     "output_type": "execute_result",
     "data": {
      "text/plain": [
       "         Age_bin  Survived\n",
       "0  (-0.08, 16.0]  0.550000\n",
       "1   (16.0, 32.0]  0.370690\n",
       "2   (32.0, 48.0]  0.400000\n",
       "3   (48.0, 64.0]  0.426471\n",
       "4   (64.0, 80.0]  0.090909"
      ],
      "text/html": "<div>\n<style scoped>\n    .dataframe tbody tr th:only-of-type {\n        vertical-align: middle;\n    }\n\n    .dataframe tbody tr th {\n        vertical-align: top;\n    }\n\n    .dataframe thead th {\n        text-align: right;\n    }\n</style>\n<table border=\"1\" class=\"dataframe\">\n  <thead>\n    <tr style=\"text-align: right;\">\n      <th></th>\n      <th>Age_bin</th>\n      <th>Survived</th>\n    </tr>\n  </thead>\n  <tbody>\n    <tr>\n      <th>0</th>\n      <td>(-0.08, 16.0]</td>\n      <td>0.550000</td>\n    </tr>\n    <tr>\n      <th>1</th>\n      <td>(16.0, 32.0]</td>\n      <td>0.370690</td>\n    </tr>\n    <tr>\n      <th>2</th>\n      <td>(32.0, 48.0]</td>\n      <td>0.400000</td>\n    </tr>\n    <tr>\n      <th>3</th>\n      <td>(48.0, 64.0]</td>\n      <td>0.426471</td>\n    </tr>\n    <tr>\n      <th>4</th>\n      <td>(64.0, 80.0]</td>\n      <td>0.090909</td>\n    </tr>\n  </tbody>\n</table>\n</div>"
     },
     "metadata": {},
     "execution_count": 19
    }
   ],
   "source": [
    "# for Age based on the visualisation, it's preferable to create 5 bins rather than 4\n",
    "train_table['Age_bin'] = pd.cut(train_table['Age'].astype(int), 5)\n",
    "\n",
    "# checking the survival rate by the new Age categories\n",
    "train_table[['Age_bin', 'Survived']].groupby(\n",
    "    ['Age_bin'], as_index=False).mean()"
   ]
  },
  {
   "cell_type": "code",
   "execution_count": 20,
   "metadata": {},
   "outputs": [],
   "source": [
    "# Age\n",
    "train_table.loc[train_table['Age'] <= 16, 'Age'] = 0\n",
    "train_table.loc[(train_table['Age'] > 16) & (\n",
    "    train_table['Age'] <= 32), 'Age'] = 1\n",
    "train_table.loc[(train_table['Age'] > 32) & (\n",
    "    train_table['Age'] <= 48), 'Age'] = 2\n",
    "train_table.loc[(train_table['Age'] > 48) & (\n",
    "    train_table['Age'] <= 64), 'Age'] = 3\n",
    "train_table.loc[(train_table['Age'] > 64), 'Age'] = 4\n",
    "\n",
    "# dropping Name and Age bin as it is not needed for the model\n",
    "train_table = train_table.drop(columns=['Name', 'Age_bin'])\n"
   ]
  },
  {
   "cell_type": "code",
   "execution_count": 21,
   "metadata": {},
   "outputs": [],
   "source": [
    "# creating one variable called single, out of the features SibSp and Parch\n",
    "train_table['Single'] = 0\n",
    "train_table.loc[train_table['SibSp'] + train_table['Parch'] == 0, 'Single'] = 1"
   ]
  },
  {
   "cell_type": "code",
   "execution_count": 22,
   "metadata": {},
   "outputs": [],
   "source": [
    "# Converting categorical values into numeric:\n",
    "\n",
    "# embarked\n",
    "emb_val = {'C': 0, 'Q': 1, 'S': 2}\n",
    "train_table['Embarked'] = train_table['Embarked'].map(emb_val)\n",
    "\n",
    "# sex\n",
    "sex_val = {'male': 0, 'female': 1}\n",
    "train_table['Sex'] = train_table['Sex'].map(sex_val)\n"
   ]
  },
  {
   "source": [
    "\n",
    "Preparing test data for the model\n",
    "\n",
    "(same steps as with the train table)"
   ],
   "cell_type": "markdown",
   "metadata": {}
  },
  {
   "cell_type": "code",
   "execution_count": 23,
   "metadata": {},
   "outputs": [],
   "source": [
    "# reading the train.csv file into a pandas DataFrame:\n",
    "test_table = pd.read_csv('test.csv')\n",
    "\n",
    "# dropping unnecessary columns\n",
    "test_table = test_table.drop(columns=['Cabin', 'Ticket', 'Name'])\n",
    "\n",
    "# dropping all the rows which contain any missing values\n",
    "test_table = test_table.dropna()\n",
    "\n",
    "# converting categorical values into numeric:\n",
    "test_table['Embarked'] = test_table['Embarked'].map(emb_val)\n",
    "test_table['Sex'] = test_table['Sex'].map(sex_val)\n",
    "\n",
    "# creating Single variable\n",
    "test_table['Single'] = 0\n",
    "test_table.loc[test_table['SibSp'] + test_table['Parch'] == 0, 'Single'] = 1\n",
    "\n",
    "# rounding the floating values\n",
    "test_table = test_table.round({'Fare': 1, 'Age': 1})\n",
    "\n",
    "# creating Fare bins\n",
    "test_table.loc[test_table['Fare'] <= 8, 'Fare'] = 0\n",
    "test_table.loc[(test_table['Fare'] > 8) & (\n",
    "    test_table['Fare'] <= 15.65), 'Fare'] = 1\n",
    "test_table.loc[(test_table['Fare'] > 15.65) & (\n",
    "    test_table['Fare'] <= 33), 'Fare'] = 2\n",
    "test_table.loc[test_table['Fare'] > 33, 'Fare'] = 3\n",
    "\n",
    "# casting Fare values as int for the model:\n",
    "test_table['Fare'] = test_table['Fare'].astype(int)\n",
    "\n",
    "# Age\n",
    "test_table.loc[test_table['Age'] <= 16, 'Age'] = 0\n",
    "test_table.loc[(test_table['Age'] > 16) & (\n",
    "    test_table['Age'] <= 32), 'Age'] = 1\n",
    "test_table.loc[(test_table['Age'] > 32) & (\n",
    "    test_table['Age'] <= 48), 'Age'] = 2\n",
    "test_table.loc[(test_table['Age'] > 48) & (\n",
    "    test_table['Age'] <= 64), 'Age'] = 3\n",
    "test_table.loc[(test_table['Age'] > 64), 'Age'] = 4"
   ]
  },
  {
   "source": [
    "\n",
    "Machine Learning models\n",
    "\n",
    "I'm going to use the two most common machine learning models, logistic regression and random forest for the prediction, and see which performs better\n",
    "\n"
   ],
   "cell_type": "markdown",
   "metadata": {}
  },
  {
   "cell_type": "code",
   "execution_count": 24,
   "metadata": {},
   "outputs": [],
   "source": [
    "# For the models I'm going to use the following independent variables or in other name features:\n",
    "# features\n",
    "x = train_table[['Sex', 'Pclass', 'Embarked', 'Fare', 'Age', 'Single']]\n",
    "\n",
    "# And of course the dependent variable, the label is whether the person survived or not\n",
    "# label\n",
    "y = train_table['Survived']\n",
    "\n",
    "# Creating the test set from the test table:\n",
    "x_test = test_table[['Sex', 'Pclass', 'Embarked', 'Fare', 'Age', 'Single']]"
   ]
  },
  {
   "source": [
    "\n",
    " At first, the regression:\n",
    "\n",
    "By the [Wikipedia](https://en.wikipedia.org/wiki/Logistic_regression) definition, logistic regression measures the relationship between the categorical dependent variable and one or more independent variables by estimating probabilities using a logistic function. Logistic regression is needed in our model as unlike ordinary linear regression, logistic regression is used for predicting dependent variables that take a limited number of categories rather than a continuous outcome."
   ],
   "cell_type": "markdown",
   "metadata": {}
  },
  {
   "cell_type": "code",
   "execution_count": 25,
   "metadata": {},
   "outputs": [
    {
     "output_type": "stream",
     "name": "stdout",
     "text": [
      "Accuracy:  79.21\n"
     ]
    }
   ],
   "source": [
    "# importing library for the model\n",
    "from sklearn.linear_model import LogisticRegression\n",
    "\n",
    "# Create a Classifier\n",
    "clf = LogisticRegression()\n",
    "\n",
    "# Train the model using the training data\n",
    "clf.fit(x, y)\n",
    "\n",
    "# predict for test data\n",
    "y_pred_reg = clf.predict(x_test)\n",
    "\n",
    "# checking the mean training accuracy accuracy of the model\n",
    "accuracy_reg = round(clf.score(x, y) * 100, 2)\n",
    "print(\"Accuracy: \", accuracy_reg)"
   ]
  },
  {
   "source": [
    "\n",
    "Secondly, the random forest model:\n",
    "\n",
    "Random forests are an ensemble learning method for classification, regression and other tasks that operates by constructing a multitude of decision trees at training time.\n",
    "(source: [Wikipedia](https://en.wikipedia.org/wiki/Random_forest))"
   ],
   "cell_type": "markdown",
   "metadata": {}
  },
  {
   "cell_type": "code",
   "execution_count": 26,
   "metadata": {},
   "outputs": [
    {
     "output_type": "stream",
     "name": "stdout",
     "text": [
      "Accuracy:  86.24\n"
     ]
    }
   ],
   "source": [
    "# importing library for the model\n",
    "from sklearn.ensemble import RandomForestClassifier\n",
    "\n",
    "# Create a Classifier\n",
    "clf = RandomForestClassifier(n_estimators=100)\n",
    "\n",
    "# Train the model using the training data\n",
    "clf.fit(x, y)\n",
    "\n",
    "# predict for test data\n",
    "y_pred_random = clf.predict(x_test)\n",
    "\n",
    "# checking the mean training accuracy accuracy of the model\n",
    "accuracy_random_forest = round(clf.score(x, y) * 100, 2)\n",
    "print(\"Accuracy: \", accuracy_random_forest)"
   ]
  },
  {
   "cell_type": "code",
   "execution_count": 27,
   "metadata": {},
   "outputs": [],
   "source": [
    "# Since the random forest model perfomed way better, I'm saving that result:\n",
    "output_random_forest = pd.DataFrame(\n",
    "    {'PassengerId': test_table.PassengerId, 'Survived': y_pred_random})\n",
    "output_random_forest.to_csv('my_submission_random_forest.csv', index=False)"
   ]
  },
  {
   "source": [
    "\n",
    "Conclusion\n",
    "\n",
    "To sum up, the analysis has proved most of our assumptions about the Titanic tragedy's survival in a sense that wealthy (with more expensive tickets, travelling first class) women were the most likely to survive the shipwreck. Also, age was a defining factor in the survival rate, as children were also more likely to survive.\n",
    "\n",
    "Concerning the machine learning models used for prediction, they performed relatively well, however there is room for further improvement. Usually, logistic regressions perform better when the model consist of less noise variables than explanatory variables, so in our prediction the random forest model performed better as we have too much noisy variables in the data. Further steps to improve the models could be to explore these in more detail. \n"
   ],
   "cell_type": "markdown",
   "metadata": {}
  }
 ]
}